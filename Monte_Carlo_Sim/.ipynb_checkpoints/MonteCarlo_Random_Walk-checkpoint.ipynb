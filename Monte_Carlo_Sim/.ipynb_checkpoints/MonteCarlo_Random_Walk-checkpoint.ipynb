{
 "cells": [
  {
   "cell_type": "code",
   "execution_count": 9,
   "metadata": {},
   "outputs": [
    {
     "data": {
      "text/plain": [
       "(1, -3)"
      ]
     },
     "execution_count": 9,
     "metadata": {},
     "output_type": "execute_result"
    }
   ],
   "source": [
    "'''Applying MC Simulation to Random Walk Problem'''\n",
    "\n",
    "import random\n",
    "\n",
    "def random_walk(n):\n",
    "    '''Return coordinates after 'n' bock random walks'''\n",
    "\n",
    "    x, y = 0, 0 #initialize x,y coordinates\n",
    "    \n",
    "    for i in range(n):\n",
    "        (dx, dy) = random.choice([(1, 0),(-1, 0),(0, 1),(0, -1)])\n",
    "        x += dx\n",
    "        y += dy\n",
    "        \n",
    "    return (x,y)\n",
    "\n",
    "random_walk(10)\n",
    "\n"
   ]
  },
  {
   "cell_type": "code",
   "execution_count": 12,
   "metadata": {},
   "outputs": [
    {
     "name": "stdout",
     "output_type": "stream",
     "text": [
      "Walk size =  1 ; % of no transport 100.0\n",
      "Walk size =  2 ; % of no transport 100.0\n",
      "Walk size =  3 ; % of no transport 100.0\n",
      "Walk size =  4 ; % of no transport 100.0\n",
      "Walk size =  5 ; % of no transport 87.88\n",
      "Walk size =  6 ; % of no transport 93.78\n",
      "Walk size =  7 ; % of no transport 76.37\n",
      "Walk size =  8 ; % of no transport 85.76\n",
      "Walk size =  9 ; % of no transport 66.92\n",
      "Walk size =  10 ; % of no transport 79.60000000000001\n",
      "Walk size =  11 ; % of no transport 60.31999999999999\n",
      "Walk size =  12 ; % of no transport 72.25\n",
      "Walk size =  13 ; % of no transport 53.93\n",
      "Walk size =  14 ; % of no transport 66.95\n",
      "Walk size =  15 ; % of no transport 49.09\n",
      "Walk size =  16 ; % of no transport 62.25000000000001\n",
      "Walk size =  17 ; % of no transport 44.31\n",
      "Walk size =  18 ; % of no transport 59.199999999999996\n",
      "Walk size =  19 ; % of no transport 41.4\n",
      "Walk size =  20 ; % of no transport 54.43\n",
      "Walk size =  21 ; % of no transport 37.76\n",
      "Walk size =  22 ; % of no transport 51.05\n",
      "Walk size =  23 ; % of no transport 35.22\n",
      "Walk size =  24 ; % of no transport 48.82\n",
      "Walk size =  25 ; % of no transport 33.48\n",
      "Walk size =  26 ; % of no transport 43.66\n",
      "Walk size =  27 ; % of no transport 31.64\n",
      "Walk size =  28 ; % of no transport 43.18\n",
      "Walk size =  29 ; % of no transport 29.060000000000002\n",
      "Walk size =  30 ; % of no transport 40.44\n"
     ]
    }
   ],
   "source": [
    "'''Prob: What is the longest walk so that on average you will end up 4 blocks or fewer from home\n",
    "   (If we walk 10 blocks, the avg should be approx. 50%)'''\n",
    "\n",
    "num_walks = 10000 \n",
    "\n",
    "\n",
    "for walk_length in range(1,31): #range function stops before final number\n",
    "    \n",
    "    no_transport = 0 #counter to keep track of number of walks <= 4 blocks\n",
    "    for i in range(num_walks):\n",
    "        (x, y) = random_walk(walk_length)\n",
    "        distance = abs(x) + abs(y)\n",
    "        if distance <= 4:\n",
    "            no_transport += 1\n",
    "            \n",
    "    no_transport_percent = float(no_transport) / num_walks\n",
    "    print(\"Walk size = \", walk_length, \"; % of no transport\", 100*no_transport_percent)"
   ]
  }
 ],
 "metadata": {
  "kernelspec": {
   "display_name": "Python 3",
   "language": "python",
   "name": "python3"
  },
  "language_info": {
   "codemirror_mode": {
    "name": "ipython",
    "version": 3
   },
   "file_extension": ".py",
   "mimetype": "text/x-python",
   "name": "python",
   "nbconvert_exporter": "python",
   "pygments_lexer": "ipython3",
   "version": "3.8.3"
  }
 },
 "nbformat": 4,
 "nbformat_minor": 4
}
