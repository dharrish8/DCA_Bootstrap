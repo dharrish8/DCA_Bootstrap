{
 "cells": [
  {
   "cell_type": "code",
   "execution_count": 3,
   "metadata": {},
   "outputs": [],
   "source": [
    "'''Monte Carlo Simulation example to predict budget for sales commission for the following year.\n",
    "\n",
    "Two components to MC Simulation which are: \n",
    "    1) The equation to evaluate\n",
    "    2) Random variables as input\n",
    "    \n",
    "Description: Commission rate based on percentage_to_target(actual sale/target sale) '''\n",
    "\n",
    "#import modules and set grid style\n",
    "import pandas as pd\n",
    "import numpy as np\n",
    "import seaborn as sns\n",
    "\n",
    "sns.set_style('whitegrid')"
   ]
  },
  {
   "cell_type": "code",
   "execution_count": 4,
   "metadata": {},
   "outputs": [
    {
     "name": "stdout",
     "output_type": "stream",
     "text": [
      "[1.14 0.96 0.77 1.06 0.86 0.94 1.04 0.76 1.19 1.07]\n",
      "[ 75000 100000 200000 500000 100000  75000 200000 100000 200000 200000]\n"
     ]
    }
   ],
   "source": [
    "'''Make use of prior info if available, for example: \n",
    "\n",
    "1) Distribution of %_To_Target from previous yrs - Normal Distribution with mean of 100% and std_dev of 10%'''\n",
    "\n",
    "avg = 1\n",
    "std_dev = 0.1\n",
    "num_reps = 500\n",
    "num_simulations = 1000 #no of MC simulations\n",
    "\n",
    "#generating 500 random pct_to_target values constrained by hist distb\n",
    "pct_to_target = np.random.normal(avg,std_dev,num_reps).round(2)\n",
    "\n",
    "print(pct_to_target[0:10])\n",
    "\n",
    "'''\n",
    "2) Historical Distribution of Sales Target. \n",
    "Example assumes a unifrom distb to show integration of diff distb types'''\n",
    "\n",
    "sales_target_values = [75_000, 100_000, 200_000, 300_000, 400_000, 500_000]\n",
    "sales_target_prob = [.3, .3, .2, .1, .05, .05]\n",
    "sales_target = np.random.choice(sales_target_values, num_reps, p = sales_target_prob)\n",
    "\n",
    "print(sales_target[0:10])"
   ]
  },
  {
   "cell_type": "code",
   "execution_count": 5,
   "metadata": {},
   "outputs": [
    {
     "data": {
      "text/html": [
       "<div>\n",
       "<style scoped>\n",
       "    .dataframe tbody tr th:only-of-type {\n",
       "        vertical-align: middle;\n",
       "    }\n",
       "\n",
       "    .dataframe tbody tr th {\n",
       "        vertical-align: top;\n",
       "    }\n",
       "\n",
       "    .dataframe thead th {\n",
       "        text-align: right;\n",
       "    }\n",
       "</style>\n",
       "<table border=\"1\" class=\"dataframe\">\n",
       "  <thead>\n",
       "    <tr style=\"text-align: right;\">\n",
       "      <th></th>\n",
       "      <th>Pct_To_Target</th>\n",
       "      <th>Sales_Target</th>\n",
       "      <th>Sales</th>\n",
       "    </tr>\n",
       "  </thead>\n",
       "  <tbody>\n",
       "    <tr>\n",
       "      <th>0</th>\n",
       "      <td>1.14</td>\n",
       "      <td>75000</td>\n",
       "      <td>85500.0</td>\n",
       "    </tr>\n",
       "    <tr>\n",
       "      <th>1</th>\n",
       "      <td>0.96</td>\n",
       "      <td>100000</td>\n",
       "      <td>96000.0</td>\n",
       "    </tr>\n",
       "    <tr>\n",
       "      <th>2</th>\n",
       "      <td>0.77</td>\n",
       "      <td>200000</td>\n",
       "      <td>154000.0</td>\n",
       "    </tr>\n",
       "    <tr>\n",
       "      <th>3</th>\n",
       "      <td>1.06</td>\n",
       "      <td>500000</td>\n",
       "      <td>530000.0</td>\n",
       "    </tr>\n",
       "    <tr>\n",
       "      <th>4</th>\n",
       "      <td>0.86</td>\n",
       "      <td>100000</td>\n",
       "      <td>86000.0</td>\n",
       "    </tr>\n",
       "  </tbody>\n",
       "</table>\n",
       "</div>"
      ],
      "text/plain": [
       "   Pct_To_Target  Sales_Target     Sales\n",
       "0           1.14         75000   85500.0\n",
       "1           0.96        100000   96000.0\n",
       "2           0.77        200000  154000.0\n",
       "3           1.06        500000  530000.0\n",
       "4           0.86        100000   86000.0"
      ]
     },
     "execution_count": 5,
     "metadata": {},
     "output_type": "execute_result"
    }
   ],
   "source": [
    "'''Organize data in pandas dataframe'''\n",
    "\n",
    "df = pd.DataFrame(index=range(num_reps), data={'Pct_To_Target': pct_to_target, 'Sales_Target': sales_target} )\n",
    "df['Sales'] = df['Pct_To_Target']*df['Sales_Target']\n",
    "\n",
    "df.head()"
   ]
  },
  {
   "cell_type": "code",
   "execution_count": 7,
   "metadata": {},
   "outputs": [
    {
     "data": {
      "text/html": [
       "<div>\n",
       "<style scoped>\n",
       "    .dataframe tbody tr th:only-of-type {\n",
       "        vertical-align: middle;\n",
       "    }\n",
       "\n",
       "    .dataframe tbody tr th {\n",
       "        vertical-align: top;\n",
       "    }\n",
       "\n",
       "    .dataframe thead th {\n",
       "        text-align: right;\n",
       "    }\n",
       "</style>\n",
       "<table border=\"1\" class=\"dataframe\">\n",
       "  <thead>\n",
       "    <tr style=\"text-align: right;\">\n",
       "      <th></th>\n",
       "      <th>Pct_To_Target</th>\n",
       "      <th>Sales_Target</th>\n",
       "      <th>Sales</th>\n",
       "      <th>Commission_Rate</th>\n",
       "      <th>Commission_Amount</th>\n",
       "    </tr>\n",
       "  </thead>\n",
       "  <tbody>\n",
       "    <tr>\n",
       "      <th>0</th>\n",
       "      <td>1.14</td>\n",
       "      <td>75000</td>\n",
       "      <td>85500.0</td>\n",
       "      <td>0.04</td>\n",
       "      <td>3420.0</td>\n",
       "    </tr>\n",
       "    <tr>\n",
       "      <th>1</th>\n",
       "      <td>0.96</td>\n",
       "      <td>100000</td>\n",
       "      <td>96000.0</td>\n",
       "      <td>0.03</td>\n",
       "      <td>2880.0</td>\n",
       "    </tr>\n",
       "    <tr>\n",
       "      <th>2</th>\n",
       "      <td>0.77</td>\n",
       "      <td>200000</td>\n",
       "      <td>154000.0</td>\n",
       "      <td>0.02</td>\n",
       "      <td>3080.0</td>\n",
       "    </tr>\n",
       "    <tr>\n",
       "      <th>3</th>\n",
       "      <td>1.06</td>\n",
       "      <td>500000</td>\n",
       "      <td>530000.0</td>\n",
       "      <td>0.04</td>\n",
       "      <td>21200.0</td>\n",
       "    </tr>\n",
       "    <tr>\n",
       "      <th>4</th>\n",
       "      <td>0.86</td>\n",
       "      <td>100000</td>\n",
       "      <td>86000.0</td>\n",
       "      <td>0.02</td>\n",
       "      <td>1720.0</td>\n",
       "    </tr>\n",
       "  </tbody>\n",
       "</table>\n",
       "</div>"
      ],
      "text/plain": [
       "   Pct_To_Target  Sales_Target     Sales  Commission_Rate  Commission_Amount\n",
       "0           1.14         75000   85500.0             0.04             3420.0\n",
       "1           0.96        100000   96000.0             0.03             2880.0\n",
       "2           0.77        200000  154000.0             0.02             3080.0\n",
       "3           1.06        500000  530000.0             0.04            21200.0\n",
       "4           0.86        100000   86000.0             0.02             1720.0"
      ]
     },
     "execution_count": 7,
     "metadata": {},
     "output_type": "execute_result"
    }
   ],
   "source": [
    "def calc_commission_rate(x):\n",
    "    \"\"\" Return the commission rate based on the table:\n",
    "    0-90% = 2%\n",
    "    91-99% = 3%\n",
    "    >= 100 = 4%\n",
    "    \"\"\"\n",
    "    if x <= .90:\n",
    "        return .02\n",
    "    if x <= .99:\n",
    "        return .03\n",
    "    else:\n",
    "        return .04\n",
    "    \n",
    "df['Commission_Rate'] = df['Pct_To_Target'].apply(calc_commission_rate)\n",
    "df['Commission_Amount'] = df['Sales']*df['Commission_Rate']\n",
    "\n",
    "#Sum the Commission_Amount would be considered 1 simulation of MC\n",
    "df.head()"
   ]
  },
  {
   "cell_type": "code",
   "execution_count": 9,
   "metadata": {},
   "outputs": [],
   "source": [
    "'''Now to Loop for N number of simulations and save to a List'''\n",
    "\n",
    "#Define a list to store simulation results\n",
    "all_stats = []\n",
    "\n",
    "#Loop for N simulations\n",
    "for i in range(num_simulations):\n",
    "    pct_to_target = np.random.normal(avg,std_dev,num_reps).round(2)\n",
    "    sales_target = np.random.choice(sales_target_values, num_reps, p = sales_target_prob)\n",
    "    \n",
    "    df = pd.DataFrame(index=range(num_reps), data={'Pct_To_Target': pct_to_target, 'Sales_Target': sales_target} )\n",
    "    df['Sales'] = df['Pct_To_Target']*df['Sales_Target']\n",
    "    \n",
    "    df['Commission_Rate'] = df['Pct_To_Target'].apply(calc_commission_rate)\n",
    "    df['Commission_Amount'] = df['Sales']*df['Commission_Rate']\n",
    "    \n",
    "    #Append summation of simulation results to list\n",
    "    all_stats.append([df['Sales'].sum().round(0), df['Commission_Amount'].sum().round(0), df['Sales_Target'].sum().round(0)])"
   ]
  },
  {
   "cell_type": "code",
   "execution_count": 10,
   "metadata": {},
   "outputs": [
    {
     "data": {
      "text/html": [
       "<style  type=\"text/css\" >\n",
       "</style><table id=\"T_3cab3342_fe71_11ea_8811_98e0d99fb61f\" ><thead>    <tr>        <th class=\"blank level0\" ></th>        <th class=\"col_heading level0 col0\" >Sales</th>        <th class=\"col_heading level0 col1\" >Commission_Amount</th>        <th class=\"col_heading level0 col2\" >Sales_Target</th>    </tr></thead><tbody>\n",
       "                <tr>\n",
       "                        <th id=\"T_3cab3342_fe71_11ea_8811_98e0d99fb61flevel0_row0\" class=\"row_heading level0 row0\" >count</th>\n",
       "                        <td id=\"T_3cab3342_fe71_11ea_8811_98e0d99fb61frow0_col0\" class=\"data row0 col0\" >1,000.0</td>\n",
       "                        <td id=\"T_3cab3342_fe71_11ea_8811_98e0d99fb61frow0_col1\" class=\"data row0 col1\" >1,000.0</td>\n",
       "                        <td id=\"T_3cab3342_fe71_11ea_8811_98e0d99fb61frow0_col2\" class=\"data row0 col2\" >1,000.0</td>\n",
       "            </tr>\n",
       "            <tr>\n",
       "                        <th id=\"T_3cab3342_fe71_11ea_8811_98e0d99fb61flevel0_row1\" class=\"row_heading level0 row1\" >mean</th>\n",
       "                        <td id=\"T_3cab3342_fe71_11ea_8811_98e0d99fb61frow1_col0\" class=\"data row1 col0\" >83,766,455.25</td>\n",
       "                        <td id=\"T_3cab3342_fe71_11ea_8811_98e0d99fb61frow1_col1\" class=\"data row1 col1\" >2,860,762.872</td>\n",
       "                        <td id=\"T_3cab3342_fe71_11ea_8811_98e0d99fb61frow1_col2\" class=\"data row1 col2\" >83,760,975.0</td>\n",
       "            </tr>\n",
       "            <tr>\n",
       "                        <th id=\"T_3cab3342_fe71_11ea_8811_98e0d99fb61flevel0_row2\" class=\"row_heading level0 row2\" >std</th>\n",
       "                        <td id=\"T_3cab3342_fe71_11ea_8811_98e0d99fb61frow2_col0\" class=\"data row2 col0\" >2,644,348.1862531262</td>\n",
       "                        <td id=\"T_3cab3342_fe71_11ea_8811_98e0d99fb61frow2_col1\" class=\"data row2 col1\" >99,778.41169778444</td>\n",
       "                        <td id=\"T_3cab3342_fe71_11ea_8811_98e0d99fb61frow2_col2\" class=\"data row2 col2\" >2,617,208.427758349</td>\n",
       "            </tr>\n",
       "            <tr>\n",
       "                        <th id=\"T_3cab3342_fe71_11ea_8811_98e0d99fb61flevel0_row3\" class=\"row_heading level0 row3\" >min</th>\n",
       "                        <td id=\"T_3cab3342_fe71_11ea_8811_98e0d99fb61frow3_col0\" class=\"data row3 col0\" >76,536,750.0</td>\n",
       "                        <td id=\"T_3cab3342_fe71_11ea_8811_98e0d99fb61frow3_col1\" class=\"data row3 col1\" >2,582,078.0</td>\n",
       "                        <td id=\"T_3cab3342_fe71_11ea_8811_98e0d99fb61frow3_col2\" class=\"data row3 col2\" >76,775,000.0</td>\n",
       "            </tr>\n",
       "            <tr>\n",
       "                        <th id=\"T_3cab3342_fe71_11ea_8811_98e0d99fb61flevel0_row4\" class=\"row_heading level0 row4\" >25%</th>\n",
       "                        <td id=\"T_3cab3342_fe71_11ea_8811_98e0d99fb61frow4_col0\" class=\"data row4 col0\" >81,791,187.5</td>\n",
       "                        <td id=\"T_3cab3342_fe71_11ea_8811_98e0d99fb61frow4_col1\" class=\"data row4 col1\" >2,787,127.5</td>\n",
       "                        <td id=\"T_3cab3342_fe71_11ea_8811_98e0d99fb61frow4_col2\" class=\"data row4 col2\" >81,900,000.0</td>\n",
       "            </tr>\n",
       "            <tr>\n",
       "                        <th id=\"T_3cab3342_fe71_11ea_8811_98e0d99fb61flevel0_row5\" class=\"row_heading level0 row5\" >50%</th>\n",
       "                        <td id=\"T_3cab3342_fe71_11ea_8811_98e0d99fb61frow5_col0\" class=\"data row5 col0\" >83,683,750.0</td>\n",
       "                        <td id=\"T_3cab3342_fe71_11ea_8811_98e0d99fb61frow5_col1\" class=\"data row5 col1\" >2,861,512.5</td>\n",
       "                        <td id=\"T_3cab3342_fe71_11ea_8811_98e0d99fb61frow5_col2\" class=\"data row5 col2\" >83,725,000.0</td>\n",
       "            </tr>\n",
       "            <tr>\n",
       "                        <th id=\"T_3cab3342_fe71_11ea_8811_98e0d99fb61flevel0_row6\" class=\"row_heading level0 row6\" >75%</th>\n",
       "                        <td id=\"T_3cab3342_fe71_11ea_8811_98e0d99fb61frow6_col0\" class=\"data row6 col0\" >85,532,812.5</td>\n",
       "                        <td id=\"T_3cab3342_fe71_11ea_8811_98e0d99fb61frow6_col1\" class=\"data row6 col1\" >2,925,363.5</td>\n",
       "                        <td id=\"T_3cab3342_fe71_11ea_8811_98e0d99fb61frow6_col2\" class=\"data row6 col2\" >85,500,000.0</td>\n",
       "            </tr>\n",
       "            <tr>\n",
       "                        <th id=\"T_3cab3342_fe71_11ea_8811_98e0d99fb61flevel0_row7\" class=\"row_heading level0 row7\" >max</th>\n",
       "                        <td id=\"T_3cab3342_fe71_11ea_8811_98e0d99fb61frow7_col0\" class=\"data row7 col0\" >92,353,250.0</td>\n",
       "                        <td id=\"T_3cab3342_fe71_11ea_8811_98e0d99fb61frow7_col1\" class=\"data row7 col1\" >3,153,758.0</td>\n",
       "                        <td id=\"T_3cab3342_fe71_11ea_8811_98e0d99fb61frow7_col2\" class=\"data row7 col2\" >92,350,000.0</td>\n",
       "            </tr>\n",
       "    </tbody></table>"
      ],
      "text/plain": [
       "<pandas.io.formats.style.Styler at 0x123a65eb0>"
      ]
     },
     "execution_count": 10,
     "metadata": {},
     "output_type": "execute_result"
    }
   ],
   "source": [
    "#To Analyze results in List, build another DataFrame\n",
    "\n",
    "results_df = pd.DataFrame.from_records(all_stats, columns=['Sales','Commission_Amount','Sales_Target'])\n",
    "\n",
    "results_df.describe().style.format('{:,}')"
   ]
  },
  {
   "cell_type": "code",
   "execution_count": 12,
   "metadata": {},
   "outputs": [
    {
     "data": {
      "text/plain": [
       "Text(0.5, 1.0, 'Histogram of Commission Budget Forecast')"
      ]
     },
     "execution_count": 12,
     "metadata": {},
     "output_type": "execute_result"
    },
    {
     "data": {
      "image/png": "[encoded data removed]",
      "text/plain": [
       "<Figure size 432x288 with 1 Axes>"
      ]
     },
     "metadata": {},
     "output_type": "display_data"
    }
   ],
   "source": [
    "#Histogram of Commission_Amount\n",
    "\n",
    "import matplotlib.pyplot as plt\n",
    "\n",
    "plt.hist(results_df['Commission_Amount'])\n",
    "\n",
    "plt.xlabel('Commission Budget, $')\n",
    "plt.ylabel('Count')\n",
    "plt.title('Histogram of Commission Budget Forecast')"
   ]
  }
 ],
 "metadata": {
  "kernelspec": {
   "display_name": "Python 3",
   "language": "python",
   "name": "python3"
  },
  "language_info": {
   "codemirror_mode": {
    "name": "ipython",
    "version": 3
   },
   "file_extension": ".py",
   "mimetype": "text/x-python",
   "name": "python",
   "nbconvert_exporter": "python",
   "pygments_lexer": "ipython3",
   "version": "3.8.3"
  }
 },
 "nbformat": 4,
 "nbformat_minor": 4
}
